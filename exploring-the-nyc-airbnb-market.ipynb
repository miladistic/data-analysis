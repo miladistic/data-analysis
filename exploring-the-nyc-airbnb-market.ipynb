{
 "cells": [
  {
   "cell_type": "markdown",
   "id": "874c5139",
   "metadata": {
    "dc": {
     "key": "4"
    },
    "deletable": false,
    "papermill": {
     "duration": 0.008246,
     "end_time": "2023-12-28T15:20:47.087937",
     "exception": false,
     "start_time": "2023-12-28T15:20:47.079691",
     "status": "completed"
    },
    "run_control": {
     "frozen": true
    },
    "tags": [
     "context"
    ]
   },
   "source": [
    "## 1. Importing the Data\n",
    "<p><img src=\"https://assets.datacamp.com/production/project_1230/img/nyc.jpg\" alt=\"New York City skyline\" width=\"600px\">\n",
    "<br>\n",
    "Welcome to New York City (NYC), one of the most-visited cities in the world. \n",
    "As a result, there are many <a href=\"https://www.airbnb.com/\"><em>Airbnb</em></a> listings to meet the high demand for temporary lodging for anywhere between a few nights to many months. \n",
    "In this notebook, we will take a look at the NYC Airbnb market by combining data from multiple file types like <code>.csv</code>, <code>.tsv</code>, and <code>.xlsx</code>.</p>\n",
    "<p><br><br>\n",
    "We will be working with three datasets:</p>\n",
    "<ol>\n",
    "<li><p><code>\"datasets/airbnb_price.csv\"</code></p></li>\n",
    "<li><p><code>\"datasets/airbnb_room_type.xlsx\"</code></p></li>\n",
    "<li><p><code>\"datasets/airbnb_last_review.tsv\"</code></p></li>\n",
    "</ol>\n",
    "<p><br><br>\n",
    "Our goals are to convert untidy data into appropriate formats to analyze, and answer key questions including:</p>\n",
    "<ul>\n",
    "<li>What is the average price, per night, of an Airbnb listing in NYC? </li>\n",
    "<li>How does the average price of an Airbnb listing, per month, compare to the private rental market? </li>\n",
    "<li>How many adverts are for private rooms? </li>\n",
    "<li>How do Airbnb listing prices compare across the five NYC boroughs?</li>\n",
    "</ul>"
   ]
  },
  {
   "cell_type": "code",
   "execution_count": 1,
   "id": "f41b8fe8",
   "metadata": {
    "dc": {
     "key": "4"
    },
    "execution": {
     "iopub.execute_input": "2023-12-28T15:20:47.107323Z",
     "iopub.status.busy": "2023-12-28T15:20:47.106436Z",
     "iopub.status.idle": "2023-12-28T15:20:51.169847Z",
     "shell.execute_reply": "2023-12-28T15:20:51.168732Z"
    },
    "papermill": {
     "duration": 4.076475,
     "end_time": "2023-12-28T15:20:51.173340",
     "exception": false,
     "start_time": "2023-12-28T15:20:47.096865",
     "status": "completed"
    },
    "tags": [
     "sample_code"
    ]
   },
   "outputs": [
    {
     "name": "stdout",
     "output_type": "stream",
     "text": [
      "prices:    listing_id        price                nbhood_full\n",
      "0        2595  225 dollars         Manhattan, Midtown\n",
      "1        3831   89 dollars     Brooklyn, Clinton Hill\n",
      "2        5099  200 dollars     Manhattan, Murray Hill\n",
      "3        5178   79 dollars  Manhattan, Hell's Kitchen\n",
      "4        5238  150 dollars       Manhattan, Chinatown \n",
      " room_types:    Unnamed: 0  listing_id        room_type  number_of_reviews\n",
      "0           0        2595  Entire home/apt                 48\n",
      "1           1        3831  Entire home/apt                295\n",
      "2           2        5099  Entire home/apt                 78\n",
      "3           3        5121     Private room                 49\n",
      "4           4        5178     Private room                454 \n",
      " reviews:    listing_id    host_name   last_review\n",
      "0        2595     Jennifer   May 21 2019\n",
      "1        3831  LisaRoxanne  July 05 2019\n",
      "2        5099        Chris  June 22 2019\n",
      "3        5178     Shunichi  June 24 2019\n",
      "4        5238          Ben  June 09 2019\n"
     ]
    }
   ],
   "source": [
    "import pandas as pd\n",
    "import numpy as np\n",
    "import datetime as dt\n",
    "\n",
    "# Load airbnb_price.csv, prices\n",
    "prices = pd.read_csv(\"/kaggle/input/nyc-data/airbnb_price.csv\")\n",
    "\n",
    "# Load airbnb_room_type.xlsx, xls\n",
    "room_types = pd.read_excel(\"/kaggle/input/nyc-data/airbnb_room_type.xlsx\")\n",
    "\n",
    "# Parse the first sheet from xls, room_types\n",
    "# room_types = xls.parse(0)\n",
    "\n",
    "# Load airbnb_last_review.tsv, reviews\n",
    "reviews = pd.read_csv(\"/kaggle/input/nyc-data/airbnb_last_review.tsv\", sep=\"\\t\")\n",
    "\n",
    "# Print the first five rows of each DataFrame\n",
    "print(\n",
    "    f\"prices: {prices.head()}\",\n",
    "    \"\\n\",\n",
    "    f\"room_types: {room_types.head()}\",\n",
    "    \"\\n\",\n",
    "    f\"reviews: {reviews.head()}\"\n",
    ")"
   ]
  },
  {
   "cell_type": "markdown",
   "id": "58014bb9",
   "metadata": {
    "dc": {
     "key": "12"
    },
    "deletable": false,
    "papermill": {
     "duration": 0.008186,
     "end_time": "2023-12-28T15:20:51.190262",
     "exception": false,
     "start_time": "2023-12-28T15:20:51.182076",
     "status": "completed"
    },
    "run_control": {
     "frozen": true
    },
    "tags": [
     "context"
    ]
   },
   "source": [
    "## 2. Cleaning the price column\n",
    "<p>Now the <code>DataFrames</code> have been loaded, the first step is to calculate the average price per listing by <code>room_type</code>. </p>\n",
    "<p>You may have noticed that the <code>price</code> column in the <code>prices</code> DataFrame currently states each value as a string with the currency (dollars) following, i.e.,</p>\n",
    "<pre><code>price\n",
    "225 dollars\n",
    "89 dollars\n",
    "200 dollars</code></pre>\n",
    "<p></p>\n",
    "<p>We will need to clean the column in order to calculate the average price.</p>"
   ]
  },
  {
   "cell_type": "code",
   "execution_count": 2,
   "id": "cba6b354",
   "metadata": {
    "dc": {
     "key": "12"
    },
    "execution": {
     "iopub.execute_input": "2023-12-28T15:20:51.209735Z",
     "iopub.status.busy": "2023-12-28T15:20:51.207985Z",
     "iopub.status.idle": "2023-12-28T15:20:51.281672Z",
     "shell.execute_reply": "2023-12-28T15:20:51.280623Z"
    },
    "papermill": {
     "duration": 0.086415,
     "end_time": "2023-12-28T15:20:51.284649",
     "exception": false,
     "start_time": "2023-12-28T15:20:51.198234",
     "status": "completed"
    },
    "tags": [
     "sample_code"
    ]
   },
   "outputs": [
    {
     "name": "stdout",
     "output_type": "stream",
     "text": [
      "0    225\n",
      "1     89\n",
      "2    200\n",
      "3     79\n",
      "4    150\n",
      "Name: price, dtype: int64\n",
      "count    25209.000000\n",
      "mean       141.777936\n",
      "std        147.349137\n",
      "min          0.000000\n",
      "25%         69.000000\n",
      "50%        105.000000\n",
      "75%        175.000000\n",
      "max       7500.000000\n",
      "Name: price, dtype: float64\n"
     ]
    }
   ],
   "source": [
    "# Remove whitespace and string characters from prices column\n",
    "prices[\"price\"] = prices[\"price\"].str.replace(\" dollars\", \"\")\n",
    "\n",
    "# Convert prices column to numeric datatype\n",
    "prices[\"price\"] = pd.to_numeric(prices[\"price\"])\n",
    "\n",
    "# Print 1st 5 rows\n",
    "print(prices[\"price\"].head())\n",
    "\n",
    "# Print descriptive statistics for the price column\n",
    "print(prices[\"price\"].describe())"
   ]
  },
  {
   "cell_type": "markdown",
   "id": "417f7ceb",
   "metadata": {
    "dc": {
     "key": "19"
    },
    "deletable": false,
    "papermill": {
     "duration": 0.008163,
     "end_time": "2023-12-28T15:20:51.302012",
     "exception": false,
     "start_time": "2023-12-28T15:20:51.293849",
     "status": "completed"
    },
    "run_control": {
     "frozen": true
    },
    "tags": [
     "context"
    ]
   },
   "source": [
    "## 3. Calculating average price\n",
    "\n",
    "We can see three quarters of listings cost $175 per night or less.\n",
    "\n",
    "However, there are some outliers including a maximum price of $7,500 per night!\n",
    "\n",
    "Some of listings are actually showing as free. Let's remove these from the `DataFrame`, and calculate the average price."
   ]
  },
  {
   "cell_type": "code",
   "execution_count": 3,
   "id": "09db775d",
   "metadata": {
    "dc": {
     "key": "19"
    },
    "execution": {
     "iopub.execute_input": "2023-12-28T15:20:51.321120Z",
     "iopub.status.busy": "2023-12-28T15:20:51.319784Z",
     "iopub.status.idle": "2023-12-28T15:20:51.337122Z",
     "shell.execute_reply": "2023-12-28T15:20:51.335862Z"
    },
    "papermill": {
     "duration": 0.030125,
     "end_time": "2023-12-28T15:20:51.340267",
     "exception": false,
     "start_time": "2023-12-28T15:20:51.310142",
     "status": "completed"
    },
    "tags": [
     "sample_code"
    ]
   },
   "outputs": [
    {
     "name": "stdout",
     "output_type": "stream",
     "text": [
      "<class 'pandas.core.series.Series'>\n",
      "(25209,)\n",
      "The average price per night for an Airbnb listing in NYC is $141.82.\n"
     ]
    }
   ],
   "source": [
    "# Subset prices for listings costing $0 named \"free_listings\"\n",
    "free_listings = prices[\"price\"] == 0\n",
    "print(type(free_listings))\n",
    "print(free_listings.shape)\n",
    "\n",
    "# Update prices by removing all free listings from prices\n",
    "# Similar to SQL's concept of \"NOT IN\"\n",
    "prices = prices.loc[~free_listings]\n",
    "\n",
    "# Calculate the average price and round to nearest 2 decimal places, avg_price\n",
    "avg_price = round(prices[\"price\"].mean(),2)\n",
    "\n",
    "# Print the average price\n",
    "print(\"The average price per night for an Airbnb listing in NYC is ${}.\".format(avg_price))"
   ]
  },
  {
   "cell_type": "markdown",
   "id": "8641395c",
   "metadata": {
    "dc": {
     "key": "26"
    },
    "deletable": false,
    "papermill": {
     "duration": 0.008115,
     "end_time": "2023-12-28T15:20:51.356546",
     "exception": false,
     "start_time": "2023-12-28T15:20:51.348431",
     "status": "completed"
    },
    "run_control": {
     "frozen": true
    },
    "tags": [
     "context"
    ]
   },
   "source": [
    "## 4. Comparing costs to the private rental market\n",
    "<p>Now we know how much a listing costs, on average, per night, but it would be useful to have a benchmark for comparison. \n",
    "According to <a href=\"https://www.zumper.com/rent-research\">Zumper</a>, a 1 bedroom apartment in New York City costs, on average, $3,100 per month. Let's convert the per night prices of our listings into monthly costs, so we can compare to the private market. </p>"
   ]
  },
  {
   "cell_type": "code",
   "execution_count": 4,
   "id": "474c2775",
   "metadata": {
    "dc": {
     "key": "26"
    },
    "execution": {
     "iopub.execute_input": "2023-12-28T15:20:51.375457Z",
     "iopub.status.busy": "2023-12-28T15:20:51.374688Z",
     "iopub.status.idle": "2023-12-28T15:20:51.386607Z",
     "shell.execute_reply": "2023-12-28T15:20:51.385272Z"
    },
    "papermill": {
     "duration": 0.025124,
     "end_time": "2023-12-28T15:20:51.389739",
     "exception": false,
     "start_time": "2023-12-28T15:20:51.364615",
     "status": "completed"
    },
    "tags": [
     "sample_code"
    ]
   },
   "outputs": [
    {
     "name": "stdout",
     "output_type": "stream",
     "text": [
      "Airbnb monthly costs are $4313.61, while in the private market you would pay $3,100.00.\n"
     ]
    }
   ],
   "source": [
    "# Add a new column to the prices DataFrame, price_per_month\n",
    "prices[\"price_per_month\"] = prices[\"price\"] * 365 / 12\n",
    "# print(type(prices[\"price_per_month\"]))\n",
    "\n",
    "# Calculate average_price_per_month\n",
    "average_price_per_month = round(prices[\"price_per_month\"].mean(),2)                     \n",
    "                                                       \n",
    "# Compare Airbnb and rental market\n",
    "print(\"Airbnb monthly costs are ${}, while in the private market you would pay {}.\".format(average_price_per_month, \"$3,100.00\"))"
   ]
  },
  {
   "cell_type": "markdown",
   "id": "562e441c",
   "metadata": {
    "dc": {
     "key": "33"
    },
    "deletable": false,
    "papermill": {
     "duration": 0.007802,
     "end_time": "2023-12-28T15:20:51.405670",
     "exception": false,
     "start_time": "2023-12-28T15:20:51.397868",
     "status": "completed"
    },
    "run_control": {
     "frozen": true
    },
    "tags": [
     "context"
    ]
   },
   "source": [
    "## 5. Cleaning the room type column\n",
    "<p>Unsurprisingly, using Airbnb appears to be substantially more expensive than the private rental market. We should, however, consider that these Airbnb listings include single private rooms or even rooms to share, as well as entire homes/apartments. \n",
    "<br><br>\n",
    "Let's dive deeper into the <code>room_type</code> column to find out the breakdown of listings by type of room. The <code>room_type</code> column has several variations for <code>private room</code> listings, specifically: </p>\n",
    "<ul>\n",
    "<li>\"Private room\"</li>\n",
    "<li>\"private room\"</li>\n",
    "<li>\"PRIVATE ROOM\"</li>\n",
    "</ul>\n",
    "<p>We can solve this by converting all string characters to lower case (upper case would also work just fine). </p>"
   ]
  },
  {
   "cell_type": "code",
   "execution_count": 5,
   "id": "62854f9e",
   "metadata": {
    "dc": {
     "key": "33"
    },
    "execution": {
     "iopub.execute_input": "2023-12-28T15:20:51.424490Z",
     "iopub.status.busy": "2023-12-28T15:20:51.423723Z",
     "iopub.status.idle": "2023-12-28T15:20:51.453337Z",
     "shell.execute_reply": "2023-12-28T15:20:51.452075Z"
    },
    "papermill": {
     "duration": 0.042643,
     "end_time": "2023-12-28T15:20:51.456309",
     "exception": false,
     "start_time": "2023-12-28T15:20:51.413666",
     "status": "completed"
    },
    "tags": [
     "sample_code"
    ]
   },
   "outputs": [
    {
     "name": "stdout",
     "output_type": "stream",
     "text": [
      "room_type\n",
      "entire home/apt    9405\n",
      "private room       7752\n",
      "shared room         357\n",
      "hotel room          100\n",
      "Name: count, dtype: int64\n"
     ]
    }
   ],
   "source": [
    "# Convert the room_type column to lowercase\n",
    "room_types[\"room_type\"] = room_types[\"room_type\"].str.lower()\n",
    "\n",
    "# Update the room_type column to category data type\n",
    "# https://pandas.pydata.org/docs/user_guide/categorical.html\n",
    "room_types[\"room_type\"] = room_types[\"room_type\"].astype(\"category\")\n",
    "\n",
    "# Create the variable room_frequencies\n",
    "room_frequencies = room_types[\"room_type\"].value_counts()\n",
    "\n",
    "# Print room_frequencies\n",
    "print(room_frequencies)"
   ]
  },
  {
   "cell_type": "markdown",
   "id": "6a286955",
   "metadata": {
    "dc": {
     "key": "40"
    },
    "deletable": false,
    "papermill": {
     "duration": 0.007857,
     "end_time": "2023-12-28T15:20:51.472322",
     "exception": false,
     "start_time": "2023-12-28T15:20:51.464465",
     "status": "completed"
    },
    "run_control": {
     "frozen": true
    },
    "tags": [
     "context"
    ]
   },
   "source": [
    "## 6. What timeframe are we working with?\n",
    "<p>It seems there is a fairly similar sized market opportunity for both private rooms (45% of listings) and entire homes/apartments (52%) on the Airbnb platform in NYC.\n",
    "<br><br></p>\n",
    "<p>Now let's turn our attention to the <code>reviews</code> DataFrame. The <code>last_review</code> column contains the date of the last review in the format of \"Month Day Year\" e.g., May 21 2019. We've been asked to find out the earliest and latest review dates in the DataFrame, and ensure the format allows this analysis to be easily conducted going forwards. </p>"
   ]
  },
  {
   "cell_type": "code",
   "execution_count": 6,
   "id": "ed878615",
   "metadata": {
    "dc": {
     "key": "40"
    },
    "execution": {
     "iopub.execute_input": "2023-12-28T15:20:51.491680Z",
     "iopub.status.busy": "2023-12-28T15:20:51.491164Z",
     "iopub.status.idle": "2023-12-28T15:20:51.556757Z",
     "shell.execute_reply": "2023-12-28T15:20:51.555406Z"
    },
    "papermill": {
     "duration": 0.079327,
     "end_time": "2023-12-28T15:20:51.560118",
     "exception": false,
     "start_time": "2023-12-28T15:20:51.480791",
     "status": "completed"
    },
    "tags": [
     "sample_code"
    ]
   },
   "outputs": [
    {
     "name": "stdout",
     "output_type": "stream",
     "text": [
      "<class 'pandas.core.series.Series'>\n",
      "The latest Airbnb review is 2019-07-09, the earliest review is 2019-01-01\n"
     ]
    }
   ],
   "source": [
    "# Change the data type of the last_review column to datetime\n",
    "# https://pandas.pydata.org/docs/reference/api/pandas.to_datetime.html\n",
    "reviews[\"last_review\"] = pd.to_datetime(reviews[\"last_review\"])\n",
    "print(type(reviews[\"last_review\"]))\n",
    "\n",
    "# Create first_reviewed, the earliest review date\n",
    "first_reviewed = reviews[\"last_review\"].dt.date.min()\n",
    "\n",
    "# Create last_reviewed, the most recent review date\n",
    "last_reviewed = reviews[\"last_review\"].dt.date.max()\n",
    "\n",
    "# Print the oldest and newest reviews from the DataFrame\n",
    "print(\"The latest Airbnb review is {}, the earliest review is {}\".format(last_reviewed, first_reviewed))"
   ]
  },
  {
   "cell_type": "markdown",
   "id": "e53b5496",
   "metadata": {
    "dc": {
     "key": "47"
    },
    "deletable": false,
    "papermill": {
     "duration": 0.008719,
     "end_time": "2023-12-28T15:20:51.577591",
     "exception": false,
     "start_time": "2023-12-28T15:20:51.568872",
     "status": "completed"
    },
    "run_control": {
     "frozen": true
    },
    "tags": [
     "context"
    ]
   },
   "source": [
    "## 7. Joining the DataFrames.\n",
    "<p>Now we've extracted the information needed, we will merge the three DataFrames to make any future analysis easier to conduct. Once we have joined the data, we will remove any observations with missing values and check for duplicates.</p>"
   ]
  },
  {
   "cell_type": "code",
   "execution_count": 7,
   "id": "9fca8f4b",
   "metadata": {
    "dc": {
     "key": "47"
    },
    "execution": {
     "iopub.execute_input": "2023-12-28T15:20:51.598410Z",
     "iopub.status.busy": "2023-12-28T15:20:51.597481Z",
     "iopub.status.idle": "2023-12-28T15:20:51.676916Z",
     "shell.execute_reply": "2023-12-28T15:20:51.675350Z"
    },
    "papermill": {
     "duration": 0.093882,
     "end_time": "2023-12-28T15:20:51.680013",
     "exception": false,
     "start_time": "2023-12-28T15:20:51.586131",
     "status": "completed"
    },
    "tags": [
     "sample_code"
    ]
   },
   "outputs": [
    {
     "name": "stdout",
     "output_type": "stream",
     "text": [
      "There are 0 duplicates in the DataFrame.\n"
     ]
    }
   ],
   "source": [
    "# Merge prices and room_types to create rooms_and_prices\n",
    "rooms_and_prices = pd.merge(prices, room_types, \n",
    "                            how=\"outer\", \n",
    "                            on=\"listing_id\")\n",
    "\n",
    "# Merge rooms_and_prices with the reviews DataFrame to create airbnb_merged\n",
    "airbnb_merged = pd.merge(rooms_and_prices, reviews, \n",
    "                         how=\"outer\", \n",
    "                         on=\"listing_id\")\n",
    "\n",
    "# Drop missing values from airbnb_merged\n",
    "airbnb_merged.dropna(inplace=True)\n",
    "\n",
    "# Check if there are any duplicate values\n",
    "print(\"There are {} duplicates in the DataFrame.\".format(airbnb_merged.duplicated().sum()))"
   ]
  },
  {
   "cell_type": "markdown",
   "id": "28b5186b",
   "metadata": {
    "dc": {
     "key": "54"
    },
    "deletable": false,
    "papermill": {
     "duration": 0.010677,
     "end_time": "2023-12-28T15:20:51.700328",
     "exception": false,
     "start_time": "2023-12-28T15:20:51.689651",
     "status": "completed"
    },
    "run_control": {
     "frozen": true
    },
    "tags": [
     "context"
    ]
   },
   "source": [
    "## 8. Analyzing listing prices by NYC borough\n",
    "<p>Now we have combined all data into a single DataFrame, we will turn our attention to understanding the difference in listing prices between <a href=\"https://en.wikipedia.org/wiki/Boroughs_of_New_York_City\">New York City boroughs</a>. \n",
    "We can currently see boroughs listed as the first part of a string within the <code>nbhood_full</code> column, e.g., </p>\n",
    "<pre><code>Manhattan, Midtown\n",
    "Brooklyn, Clinton Hill\n",
    "Manhattan, Murray Hill\n",
    "Manhattan, Hell's Kitchen\n",
    "Manhattan, Chinatown</code></pre>\n",
    "<p></p>\n",
    "<p>We will therefore need to extract this information from the string and store in a new column, <code>borough</code>, for analysis.</p>"
   ]
  },
  {
   "cell_type": "code",
   "execution_count": 8,
   "id": "c64d4924",
   "metadata": {
    "dc": {
     "key": "54"
    },
    "execution": {
     "iopub.execute_input": "2023-12-28T15:20:51.723169Z",
     "iopub.status.busy": "2023-12-28T15:20:51.722396Z",
     "iopub.status.idle": "2023-12-28T15:20:51.793073Z",
     "shell.execute_reply": "2023-12-28T15:20:51.791710Z"
    },
    "papermill": {
     "duration": 0.086392,
     "end_time": "2023-12-28T15:20:51.796548",
     "exception": false,
     "start_time": "2023-12-28T15:20:51.710156",
     "status": "completed"
    },
    "tags": [
     "sample_code"
    ]
   },
   "outputs": [
    {
     "name": "stdout",
     "output_type": "stream",
     "text": [
      "                    sum    mean  median  count\n",
      "borough                                       \n",
      "Manhattan      893869.0  171.70   139.0   5206\n",
      "Brooklyn       742816.0  123.02   100.0   6038\n",
      "Queens         174429.0   92.73    73.0   1881\n",
      "Staten Island   13439.0   86.15    70.5    156\n",
      "Bronx           30954.0   81.03    63.5    382\n"
     ]
    }
   ],
   "source": [
    "# Extract information from the nbhood_full column and store as a new column, borough\n",
    "# Either use `.str.partition()` or `.str.split()`\n",
    "airbnb_merged[\"borough\"] = airbnb_merged[\"nbhood_full\"].str.partition(\",\", expand=True)[0]\n",
    "\n",
    "# Group by borough and calculate summary statistics\n",
    "boroughs = airbnb_merged.groupby(\"borough\")[\"price\"].agg([\"sum\", \"mean\", \"median\", \"count\"])\n",
    "\n",
    "# Round boroughs to 2 decimal places, and sort by mean in descending order\n",
    "boroughs = boroughs.round(2).sort_values(\"mean\", ascending=False)\n",
    "\n",
    "# Print boroughs\n",
    "print(boroughs)"
   ]
  },
  {
   "cell_type": "markdown",
   "id": "6fa5c321",
   "metadata": {
    "dc": {
     "key": "62"
    },
    "deletable": false,
    "papermill": {
     "duration": 0.008676,
     "end_time": "2023-12-28T15:20:51.813863",
     "exception": false,
     "start_time": "2023-12-28T15:20:51.805187",
     "status": "completed"
    },
    "run_control": {
     "frozen": true
    },
    "tags": [
     "context"
    ]
   },
   "source": [
    "## 9. Price range by borough\n",
    "<p>The above output gives us a summary of prices for listings across the 5 boroughs. In this final task we would like to categorize listings based on whether they fall into specific price ranges, and view this by borough. \n",
    "<br><br>\n",
    "We can do this using percentiles and labels to create a new column, <code>price_range</code>, in the DataFrame.\n",
    "Once we have created the labels, we can then group the data and count frequencies for listings in each price range by borough.\n",
    "<br><br>\n",
    "We will assign the following categories and price ranges:</p>\n",
    "<table>\n",
    "<thead>\n",
    "<tr>\n",
    "<th>label</th>\n",
    "<th>price</th>\n",
    "</tr>\n",
    "</thead>\n",
    "<tbody>\n",
    "<tr>\n",
    "<td><code>Budget</code></td>\n",
    "<td>\\$0-69</td>\n",
    "</tr>\n",
    "<tr>\n",
    "<td><code>Average</code></td>\n",
    "<td>\\$70-175</td>\n",
    "</tr>\n",
    "<tr>\n",
    "<td><code>Expensive</code></td>\n",
    "<td>\\$176-350</td>\n",
    "</tr>\n",
    "<tr>\n",
    "<td><code>Extravagant</code></td>\n",
    "<td>&gt; \\$350</td>\n",
    "</tr>\n",
    "</tbody>\n",
    "</table>"
   ]
  },
  {
   "cell_type": "code",
   "execution_count": 9,
   "id": "324a43e0",
   "metadata": {
    "dc": {
     "key": "62"
    },
    "execution": {
     "iopub.execute_input": "2023-12-28T15:20:51.833816Z",
     "iopub.status.busy": "2023-12-28T15:20:51.833340Z",
     "iopub.status.idle": "2023-12-28T15:20:51.856469Z",
     "shell.execute_reply": "2023-12-28T15:20:51.854851Z"
    },
    "papermill": {
     "duration": 0.037375,
     "end_time": "2023-12-28T15:20:51.859903",
     "exception": false,
     "start_time": "2023-12-28T15:20:51.822528",
     "status": "completed"
    },
    "tags": [
     "sample_code"
    ]
   },
   "outputs": [
    {
     "name": "stdout",
     "output_type": "stream",
     "text": [
      "borough        price_range\n",
      "Bronx          Budget          209\n",
      "               Average         155\n",
      "               Expensive        14\n",
      "               Extravagant       4\n",
      "Brooklyn       Budget         1697\n",
      "               Average        3324\n",
      "               Expensive       888\n",
      "               Extravagant     129\n",
      "Manhattan      Budget          590\n",
      "               Average        2868\n",
      "               Expensive      1456\n",
      "               Extravagant     292\n",
      "Queens         Budget          870\n",
      "               Average         847\n",
      "               Expensive       145\n",
      "               Extravagant      19\n",
      "Staten Island  Budget           71\n",
      "               Average          73\n",
      "               Expensive        12\n",
      "               Extravagant       0\n",
      "Name: price_range, dtype: int64\n"
     ]
    }
   ],
   "source": [
    "# Create labels for the price range, label_names\n",
    "label_names = [\"Budget\", \"Average\", \"Expensive\", \"Extravagant\"]\n",
    "\n",
    "# Create the label ranges, ranges\n",
    "ranges = [0, 69, 175, 350, np.inf]\n",
    "\n",
    "# Insert new column, price_range, into DataFrame\n",
    "# Use `pd.cut` to segment and sort data values into bins\n",
    "# Useful for going from a continuous variable to a categorical variable \n",
    "airbnb_merged[\"price_range\"] = pd.cut(airbnb_merged[\"price\"], bins=ranges, labels=label_names)\n",
    "\n",
    "# Calculate borough and price_range frequencies, prices_by_borough\n",
    "prices_by_borough = airbnb_merged.groupby([\"borough\", \"price_range\"])[\"price_range\"].agg(\"count\")\n",
    "print(prices_by_borough)"
   ]
  }
 ],
 "metadata": {
  "kaggle": {
   "accelerator": "none",
   "dataSources": [
    {
     "datasetId": 4213508,
     "sourceId": 7289399,
     "sourceType": "datasetVersion"
    }
   ],
   "dockerImageVersionId": 30626,
   "isGpuEnabled": false,
   "isInternetEnabled": true,
   "language": "python",
   "sourceType": "notebook"
  },
  "kernelspec": {
   "display_name": "Python 3",
   "language": "python",
   "name": "python3"
  },
  "language_info": {
   "codemirror_mode": {
    "name": "ipython",
    "version": 3
   },
   "file_extension": ".py",
   "mimetype": "text/x-python",
   "name": "python",
   "nbconvert_exporter": "python",
   "pygments_lexer": "ipython3",
   "version": "3.10.12"
  },
  "papermill": {
   "default_parameters": {},
   "duration": 9.603829,
   "end_time": "2023-12-28T15:20:52.695111",
   "environment_variables": {},
   "exception": null,
   "input_path": "__notebook__.ipynb",
   "output_path": "__notebook__.ipynb",
   "parameters": {},
   "start_time": "2023-12-28T15:20:43.091282",
   "version": "2.4.0"
  }
 },
 "nbformat": 4,
 "nbformat_minor": 5
}
