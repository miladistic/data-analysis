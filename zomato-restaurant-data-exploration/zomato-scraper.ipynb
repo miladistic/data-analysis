{
 "cells": [
  {
   "cell_type": "code",
   "execution_count": 1,
   "id": "a90992fa-7dcb-45c6-8b51-98772ea3c40b",
   "metadata": {
    "tags": []
   },
   "outputs": [],
   "source": [
    "import time\n",
    "import pandas as pd\n",
    "from selenium import webdriver\n",
    "from selenium.webdriver.common.by import By"
   ]
  },
  {
   "cell_type": "code",
   "execution_count": 2,
   "id": "0e01c997-9dd3-4641-8275-be25122d6629",
   "metadata": {
    "tags": []
   },
   "outputs": [],
   "source": [
    "# Initialize Chrome WebDriver\n",
    "driver = webdriver.Chrome()"
   ]
  },
  {
   "cell_type": "code",
   "execution_count": 3,
   "id": "ebbe78cd-1078-4471-9d31-075fdf0cc81e",
   "metadata": {
    "tags": []
   },
   "outputs": [],
   "source": [
    "# Get Zomato Mumbai Page\n",
    "driver.get(\"https://www.zomato.com/mumbai/\")"
   ]
  },
  {
   "cell_type": "code",
   "execution_count": 4,
   "id": "51093864-3b76-4b15-b560-45ed701a8fd1",
   "metadata": {
    "tags": []
   },
   "outputs": [],
   "source": [
    "# Wait for the page to load (2 seconds)\n",
    "time.sleep(2)\n",
    "\n",
    "# Define variables for scrolling\n",
    "scroll_pause_time = 3  # Time to wait between scrolls (seconds)\n",
    "screen_height = driver.execute_script(\"return window.screen.height;\")  # Get screen height\n",
    "\n",
    "# Loop to scroll down the page gradually\n",
    "i = 1\n",
    "while True:\n",
    "    # Scroll down one screen height at a time\n",
    "    driver.execute_script(\"window.scrollTo(0, {screen_height}*{i});\".format(screen_height=screen_height, i=i))\n",
    "    i += 1\n",
    "    time.sleep(scroll_pause_time)\n",
    "\n",
    "    # Update scroll height after each scroll (content might change)\n",
    "    scroll_height = driver.execute_script(\"return document.body.scrollHeight;\")\n",
    "\n",
    "    # Break the loop when scrolled past the content\n",
    "    if (screen_height) * i > scroll_height:\n",
    "        break"
   ]
  },
  {
   "cell_type": "code",
   "execution_count": 5,
   "id": "c84fd3db-c4ae-4cd9-8bec-ccc7cd51566f",
   "metadata": {
    "tags": []
   },
   "outputs": [],
   "source": [
    "# Find restaurant listings (adjust selector if Zomato changes HTML structure)\n",
    "divs = driver.find_elements(By.CLASS_NAME, \"jumbo-tracker\")  # May need to update class name in the future"
   ]
  },
  {
   "cell_type": "code",
   "execution_count": 6,
   "id": "5ee00ed3-a74b-4c9c-bed1-b243272cf44d",
   "metadata": {},
   "outputs": [],
   "source": [
    "# Initialize empty lists to store scraped data\n",
    "name = []\n",
    "cuisines = []\n",
    "rating = []\n",
    "price = []\n",
    "address = []\n",
    "\n",
    "# Extract data from each restaurant listing\n",
    "for div in divs:\n",
    "    # Get restaurant name using XPath\n",
    "    name_tag = div.find_element(By.XPATH, './/h4[@class=\"sc-1hp8d8a-0 sc-cgThhu dFwWJC\"]').text\n",
    "    name.append(name_tag)\n",
    "\n",
    "    # Get rating using XPath\n",
    "    rating_tag = div.find_element(By.XPATH, './/div[@class=\"sc-ghUbLI lbumXf\"]//div[@class=\"sc-1q7bklc-1 cILgox\"]').text\n",
    "    rating.append(rating_tag)\n",
    "\n",
    "    # Get price for two using XPath\n",
    "    price_tag = div.find_element(By.XPATH, './/div[@class=\"sc-ghUbLI lbumXf\"]//p[@class=\"sc-1hez2tp-0 sc-LAuEU dHtbEm\"]').text\n",
    "    price.append(price_tag)\n",
    "\n",
    "    # Get cuisines using XPath\n",
    "    cuisine_tag = div.find_element(By.XPATH, './/div[@class=\"sc-ghUbLI lbumXf\"]//p[@class=\"sc-1hez2tp-0 sc-LAuEU fDjWNG\"]').text\n",
    "    cuisines.append(cuisine_tag)\n",
    "\n",
    "    # Get address using XPath\n",
    "    address_tag = div.find_element(By.XPATH, './/div[@class=\"sc-iEPtyo joISYm\"]//p[@class=\"sc-1hez2tp-0 sc-gkfylT cOAsXn\"]').text\n",
    "    address.append(address_tag)"
   ]
  },
  {
   "cell_type": "code",
   "execution_count": 7,
   "id": "5c554dff-1605-442a-af33-352c66c57f44",
   "metadata": {
    "tags": []
   },
   "outputs": [],
   "source": [
    "# Create pandas dataframe from scraped data\n",
    "out_df = pd.DataFrame({'name': name, 'cuisines': cuisines, 'rating': rating, 'price_for_two': price, 'address': address})"
   ]
  },
  {
   "cell_type": "code",
   "execution_count": 8,
   "id": "858e02ae-a6ac-400a-bb48-cba821522b4f",
   "metadata": {
    "tags": []
   },
   "outputs": [],
   "source": [
    "# Save dataframe to CSV file\n",
    "out_df.to_csv(\"mumbai_restaurants.csv\", index=False)"
   ]
  },
  {
   "cell_type": "code",
   "execution_count": 9,
   "id": "3556d5da-b4eb-4f16-a2a2-defafd41110b",
   "metadata": {
    "tags": []
   },
   "outputs": [],
   "source": [
    "# Close the browser window\n",
    "driver.close()"
   ]
  },
  {
   "cell_type": "code",
   "execution_count": null,
   "id": "be466c0a-87b7-43e2-875c-6e34b5dd30de",
   "metadata": {},
   "outputs": [],
   "source": []
  }
 ],
 "metadata": {
  "kernelspec": {
   "display_name": "Python 3 (ipykernel)",
   "language": "python",
   "name": "python3"
  },
  "language_info": {
   "codemirror_mode": {
    "name": "ipython",
    "version": 3
   },
   "file_extension": ".py",
   "mimetype": "text/x-python",
   "name": "python",
   "nbconvert_exporter": "python",
   "pygments_lexer": "ipython3",
   "version": "3.10.12"
  }
 },
 "nbformat": 4,
 "nbformat_minor": 5
}
