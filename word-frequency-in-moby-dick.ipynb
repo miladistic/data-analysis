{
 "cells": [
  {
   "cell_type": "markdown",
   "id": "a764a478",
   "metadata": {
    "dc": {
     "key": "3"
    },
    "deletable": false,
    "papermill": {
     "duration": 0.005872,
     "end_time": "2024-01-04T18:49:23.311029",
     "exception": false,
     "start_time": "2024-01-04T18:49:23.305157",
     "status": "completed"
    },
    "run_control": {
     "frozen": true
    },
    "tags": [
     "context"
    ]
   },
   "source": [
    "## 1. Tools for text processing\n",
    "<p><img style=\"float: right ; margin: 5px 20px 5px 10px; width: 45%\" src=\"https://s3.amazonaws.com/assets.datacamp.com/production/project_38/img/Moby_Dick_p510_illustration.jpg\"> </p>\n",
    "<p>What are the most frequent words in Herman Melville's novel Moby Dick and how often do they occur?</p>\n",
    "<p>In this notebook, we'll scrape the novel <em>Moby Dick</em> from the website <a href=\"https://www.gutenberg.org/\">Project Gutenberg</a> (which contains a large corpus of books) using the Python package <code>requests</code>. Then we'll extract words from this web data using <code>BeautifulSoup</code>. Finally, we'll dive into analyzing the distribution of words using the Natural Language ToolKit (<code>nltk</code>). </p>\n",
    "<p>The <em>Data Science pipeline</em> we'll build in this notebook can be used to visualize the word frequency distributions of any novel that you can find on Project Gutenberg. The natural language processing tools used here apply to much of the data that data scientists encounter as a vast proportion of the world's data is unstructured data and includes a great deal of text.</p>\n",
    "<p>Let's start by loading in the three main python packages we are going to use.</p>"
   ]
  },
  {
   "cell_type": "code",
   "execution_count": 1,
   "id": "a005c5f1",
   "metadata": {
    "dc": {
     "key": "3"
    },
    "execution": {
     "iopub.execute_input": "2024-01-04T18:49:23.325731Z",
     "iopub.status.busy": "2024-01-04T18:49:23.325307Z",
     "iopub.status.idle": "2024-01-04T18:49:26.316781Z",
     "shell.execute_reply": "2024-01-04T18:49:26.314979Z"
    },
    "papermill": {
     "duration": 3.004248,
     "end_time": "2024-01-04T18:49:26.321044",
     "exception": false,
     "start_time": "2024-01-04T18:49:23.316796",
     "status": "completed"
    },
    "tags": [
     "sample_code"
    ]
   },
   "outputs": [],
   "source": [
    "# Importing requests, BeautifulSoup and nltk\n",
    "import requests\n",
    "from bs4 import BeautifulSoup\n",
    "import nltk\n",
    "\n",
    "#http://docs.python-requests.org/en/master/user/quickstart/#response-content\n",
    "#https://www.crummy.com/software/BeautifulSoup/bs4/doc/#quick-start\n",
    "#http://www.nltk.org/api/nltk.tokenize.html?highlight=regexp#module-nltk.tokenize.regexp\n",
    "#http://www.nltk.org/book/ch02.html#wordlist-corpora"
   ]
  },
  {
   "cell_type": "markdown",
   "id": "54b6d9cc",
   "metadata": {
    "dc": {
     "key": "10"
    },
    "deletable": false,
    "papermill": {
     "duration": 0.006856,
     "end_time": "2024-01-04T18:49:26.334693",
     "exception": false,
     "start_time": "2024-01-04T18:49:26.327837",
     "status": "completed"
    },
    "run_control": {
     "frozen": true
    },
    "tags": [
     "context"
    ]
   },
   "source": [
    "## 2. Request Moby Dick\n",
    "<p>To analyze Moby Dick, we need to get the contents of Moby Dick from <em>somewhere</em>. Luckily, the text is freely available online at Project Gutenberg as an HTML file: https://www.gutenberg.org/files/2701/2701-h/2701-h.htm .</p>\n",
    "<p><strong>Note</strong> that HTML stands for Hypertext Markup Language and is the standard markup language for the web.</p>\n",
    "<p>To fetch the HTML file with Moby Dick we're going to use the <code>request</code> package to make a <code>GET</code> request for the website, which means we're <em>getting</em> data from it. This is what you're doing through a browser when visiting a webpage, but now we're getting the requested page directly into python instead. </p>"
   ]
  },
  {
   "cell_type": "code",
   "execution_count": 2,
   "id": "eeed9e30",
   "metadata": {
    "dc": {
     "key": "10"
    },
    "execution": {
     "iopub.execute_input": "2024-01-04T18:49:26.349685Z",
     "iopub.status.busy": "2024-01-04T18:49:26.349073Z",
     "iopub.status.idle": "2024-01-04T18:49:27.382033Z",
     "shell.execute_reply": "2024-01-04T18:49:27.380678Z"
    },
    "papermill": {
     "duration": 1.043784,
     "end_time": "2024-01-04T18:49:27.384828",
     "exception": false,
     "start_time": "2024-01-04T18:49:26.341044",
     "status": "completed"
    },
    "tags": [
     "sample_code"
    ]
   },
   "outputs": [
    {
     "name": "stdout",
     "output_type": "stream",
     "text": [
      "<?xml version=\"1.0\" encoding=\"utf-8\"?>\r\n",
      "\r\n",
      "<!DOCTYPE html\r\n",
      "   PUBLIC \"-//W3C//DTD XHTML 1.0 Strict//EN\"\r\n",
      "   \"http://www.w3.org/TR/xhtml1/DTD/xhtml1-strict.dtd\" >\r\n",
      "\r\n",
      "<html xmlns=\"http://www.w3.org/1999/xhtml\" lang=\"en\">\r\n",
      "  <head>\r\n",
      "    <title>\r\n",
      "      Moby Dick; Or the Whale, by Herman Melville\r\n",
      "    </title>\r\n",
      "    <style type=\"text/css\" xml:space=\"preserve\">\r\n",
      "\r\n",
      "    body { background:#faebd0; color:black; margin-left:15%; margin-right:15%; text-align:justify }\r\n",
      "    P { text-indent: 1em; margin-top: .25em; margin-bottom: .25em; }\r\n",
      "    H1,H2,H3,H4,H5,H6 { text-align: center; margin-left: 15%; margin-right: 15%; }\r\n",
      "    hr  { width: 50%; text-align: center;}\r\n",
      "    .foot { margin-left: 20%; margin-right: 20%; text-align: justify; text-indent: -3em; font-size: 90%; }\r\n",
      "    blockquote {font-size: 100%; margin-left: 0%; margin-right: 0%;}\r\n",
      "    .mynote    {background-color: #DDE; color: #000; padding: .5em; margin-left: 10%; margin-right: 10%; font-family: sans-serif; font-size: 95%;}\r\n",
      "    .toc       { margin-left: 10%; margin-bottom: .75em;}\r\n",
      "    .toc2      { margin-left: 20%;}\r\n",
      "    div.fig    { display:block; margin:0 auto; text-align:center; }\r\n",
      "    div.middle { margin-left: 20%; margin-right: 20%; text-align: justify; }\r\n",
      "    .figleft   {float: left; margin-left: 0%; margin-right: 1%;}\r\n",
      "    .figright  {float: right; margin-right: 0%; margin-left: 1%;}\r\n",
      "    .pagenum   {display:inline; font-size: 70%; font-style:normal;\r\n",
      "               margin: 0; padding: 0; position: absolute; right: 1%;\r\n",
      "               text-align: right;}\r\n",
      "    pre        { font-family: times new roman; font-size: 100%; margin-left: 10%;}\r\n",
      "\r\n",
      "    table      {margin-left: 10%;}\r\n",
      "\r\n",
      "a:link {color:blue;\r\n",
      "\t\ttext-decoration:none}\r\n",
      "link {color:blue;\r\n",
      "\t\ttext-decoration:none}\r\n",
      "a:visited {color:blue;\r\n",
      "\t\ttext-decoration:none}\r\n",
      "a:hover {color:red}\r\n",
      "\r\n",
      "</style>\r\n",
      "  </head>\r\n",
      "  <body>\r\n",
      "<pre xml:space=\"preserve\">\r\n",
      "\r\n",
      "The Project Gutenberg EBook of Moby Dick; or The Whale, by Herman Melville\r\n",
      "\r\n",
      "This eBook is for the use of anyone anywh\n"
     ]
    }
   ],
   "source": [
    "# Getting the Moby Dick HTML \n",
    "r = requests.get('https://s3.amazonaws.com/assets.datacamp.com/production/project_147/datasets/2701-h.htm')\n",
    "\n",
    "# Setting the correct text encoding of the HTML page\n",
    "r.encoding = 'utf-8'\n",
    "\n",
    "# Extracting the HTML from the request object\n",
    "html = r.text\n",
    "\n",
    "# Printing the first 2000 characters in html\n",
    "print(html[0:2000])"
   ]
  },
  {
   "cell_type": "markdown",
   "id": "b761e4c3",
   "metadata": {
    "dc": {
     "key": "17"
    },
    "deletable": false,
    "papermill": {
     "duration": 0.005682,
     "end_time": "2024-01-04T18:49:27.397135",
     "exception": false,
     "start_time": "2024-01-04T18:49:27.391453",
     "status": "completed"
    },
    "run_control": {
     "frozen": true
    },
    "tags": [
     "context"
    ]
   },
   "source": [
    "## 3. Get the text from the HTML\n",
    "<p>This HTML is not quite what we want. However, it does <em>contain</em> what we want: the text of <em>Moby Dick</em>. What we need to do now is <em>wrangle</em> this HTML to extract the text of the novel. For this we'll use the package <code>BeautifulSoup</code>.</p>\n",
    "<p>Firstly, a word on the name of the package: Beautiful Soup? In web development, the term \"tag soup\" refers to structurally or syntactically incorrect HTML code written for a web page. What Beautiful Soup does best is to make tag soup beautiful again and to extract information from it with ease! In fact, the main object created and queried when using this package is called <code>BeautifulSoup</code>. After creating the soup, we can use its <code>.get_text()</code> method to extract the text.</p>"
   ]
  },
  {
   "cell_type": "code",
   "execution_count": 3,
   "id": "c8ac2733",
   "metadata": {
    "dc": {
     "key": "17"
    },
    "execution": {
     "iopub.execute_input": "2024-01-04T18:49:27.411838Z",
     "iopub.status.busy": "2024-01-04T18:49:27.411403Z",
     "iopub.status.idle": "2024-01-04T18:49:27.738045Z",
     "shell.execute_reply": "2024-01-04T18:49:27.736873Z"
    },
    "papermill": {
     "duration": 0.337334,
     "end_time": "2024-01-04T18:49:27.740650",
     "exception": false,
     "start_time": "2024-01-04T18:49:27.403316",
     "status": "completed"
    },
    "tags": [
     "sample_code"
    ]
   },
   "outputs": [
    {
     "name": "stdout",
     "output_type": "stream",
     "text": [
      "ent me\r\n",
      "      from deliberately stepping into the street, and methodically knocking\r\n",
      "      people’s hats off—then, I account it high time to get to sea as soon\r\n",
      "      as I can. This is my substitute for pistol and ball. With a philosophical\r\n",
      "      flourish Cato throws himself upon his sword; I quietly take to the ship.\r\n",
      "      There is nothing surprising in this. If they but knew it, almost all men\r\n",
      "      in their degree, some time or other, cherish very nearly the same feelings\r\n",
      "      towards the ocean with me.\r\n",
      "    \n",
      "\r\n",
      "      There now is your insular city of the Manhattoes, belted round by wharves\r\n",
      "      as Indian isles by coral reefs—commerce surrounds it with her surf.\r\n",
      "      Right and left, the streets take you waterward. Its extreme downtown is\r\n",
      "      the battery, where that noble mole is washed by waves, and cooled by\r\n",
      "      breezes, which a few hours previous were out of sight of land. Look at the\r\n",
      "      crowds of water-gazers there.\r\n",
      "    \n",
      "\r\n",
      "      Circumambulate the city of a dreamy Sabbath afternoon. Go from Corlears\r\n",
      "      Hook to Coenties Slip, and from thence, by Whitehall, northward. What do\r\n",
      "      you see?—Posted like silent sentinels all around the town, stand\r\n",
      "      thousands upon thousands of mortal men fixed in ocean reveries. Some\r\n",
      "      leaning against the spiles; some seated upon the pier-heads; some looking\r\n",
      "      over the bulwarks of ships from China; some high aloft in the rigging, as\r\n",
      "      if striving to get a still better seaward peep. But these are all\r\n",
      "      landsmen; of week days pent up in lath and plaster—tied to counters,\r\n",
      "      nailed to benches, clinched to desks. How then is this? Are the green\r\n",
      "      fields gone? What do they here?\r\n",
      "    \n",
      "\r\n",
      "      But look! here come more crowds, pacing straight for the water, and\r\n",
      "      seemingly bound for a dive. Strange! Nothing will content them but the\r\n",
      "      extremest limit of the land; loitering under the shady lee of yonder\r\n",
      "      warehouses will not suffice. No. They must get just as nigh th\n"
     ]
    }
   ],
   "source": [
    "# Creating a BeautifulSoup object from the HTML\n",
    "soup = BeautifulSoup(html, 'html.parser')\n",
    "\n",
    "# Getting the text out of the soup\n",
    "text = soup.get_text()\n",
    "\n",
    "# Printing out text between characters 32000 and 34000\n",
    "print(text[32000:34000])"
   ]
  },
  {
   "cell_type": "markdown",
   "id": "84657541",
   "metadata": {
    "dc": {
     "key": "24"
    },
    "deletable": false,
    "papermill": {
     "duration": 0.006714,
     "end_time": "2024-01-04T18:49:27.753230",
     "exception": false,
     "start_time": "2024-01-04T18:49:27.746516",
     "status": "completed"
    },
    "run_control": {
     "frozen": true
    },
    "tags": [
     "context"
    ]
   },
   "source": [
    "## 4. Extract the words\n",
    "<p>We now have the text of the novel! There is some unwanted stuff at the start and some unwanted stuff at the end. We could remove it, but this content is so much smaller in amount than the text of Moby Dick that, to a first approximation, it is okay to leave it in.</p>\n",
    "<p>Now that we have the text of interest, it's time to count how many times each word appears, and for this we'll use <code>nltk</code> – the Natural Language Toolkit. We'll start by tokenizing the text, that is, remove everything that isn't a word (whitespace, punctuation, etc.) and then split the text into a list of words.</p>"
   ]
  },
  {
   "cell_type": "code",
   "execution_count": 4,
   "id": "95280e9e",
   "metadata": {
    "dc": {
     "key": "24"
    },
    "execution": {
     "iopub.execute_input": "2024-01-04T18:49:27.768878Z",
     "iopub.status.busy": "2024-01-04T18:49:27.768433Z",
     "iopub.status.idle": "2024-01-04T18:49:27.866162Z",
     "shell.execute_reply": "2024-01-04T18:49:27.864800Z"
    },
    "papermill": {
     "duration": 0.10792,
     "end_time": "2024-01-04T18:49:27.868635",
     "exception": false,
     "start_time": "2024-01-04T18:49:27.760715",
     "status": "completed"
    },
    "tags": [
     "sample_code"
    ]
   },
   "outputs": [
    {
     "name": "stdout",
     "output_type": "stream",
     "text": [
      "['Moby', 'Dick', 'Or', 'the', 'Whale', 'by', 'Herman', 'Melville']\n"
     ]
    }
   ],
   "source": [
    "# Creating a tokenizer\n",
    "tokenizer = nltk.tokenize.RegexpTokenizer('\\w+')\n",
    "\n",
    "# Tokenizing the text\n",
    "tokens = tokenizer.tokenize(text)\n",
    "\n",
    "# Printing out the first 8 words / tokens \n",
    "print(tokens[0:8])"
   ]
  },
  {
   "cell_type": "markdown",
   "id": "00dd8f04",
   "metadata": {
    "dc": {
     "key": "31"
    },
    "deletable": false,
    "papermill": {
     "duration": 0.005468,
     "end_time": "2024-01-04T18:49:27.880326",
     "exception": false,
     "start_time": "2024-01-04T18:49:27.874858",
     "status": "completed"
    },
    "run_control": {
     "frozen": true
    },
    "tags": [
     "context"
    ]
   },
   "source": [
    "## 5. Make the words lowercase\n",
    "<p>OK! We're nearly there. Note that in the above 'Or' has a capital 'O' and that in other places it may not, but both 'Or' and 'or' should be counted as the same word. For this reason, we should build a list of all words in <em>Moby Dick</em> in which all capital letters have been made lower case.</p>"
   ]
  },
  {
   "cell_type": "code",
   "execution_count": 5,
   "id": "e7fc2d81",
   "metadata": {
    "dc": {
     "key": "31"
    },
    "execution": {
     "iopub.execute_input": "2024-01-04T18:49:27.894464Z",
     "iopub.status.busy": "2024-01-04T18:49:27.894063Z",
     "iopub.status.idle": "2024-01-04T18:49:27.959958Z",
     "shell.execute_reply": "2024-01-04T18:49:27.958456Z"
    },
    "papermill": {
     "duration": 0.07648,
     "end_time": "2024-01-04T18:49:27.962496",
     "exception": false,
     "start_time": "2024-01-04T18:49:27.886016",
     "status": "completed"
    },
    "tags": [
     "sample_code"
    ]
   },
   "outputs": [
    {
     "name": "stdout",
     "output_type": "stream",
     "text": [
      "['moby', 'dick', 'or', 'the', 'whale', 'by', 'herman', 'melville']\n"
     ]
    }
   ],
   "source": [
    "# A new list to hold the lowercased words\n",
    "words = []\n",
    "\n",
    "# Looping through the tokens and make them lower case\n",
    "for word in tokens:\n",
    "    words.append(word.lower())\n",
    "\n",
    "# Printing out the first 8 words / tokens \n",
    "print(words[0:8])"
   ]
  },
  {
   "cell_type": "markdown",
   "id": "a4d6b828",
   "metadata": {
    "dc": {
     "key": "38"
    },
    "deletable": false,
    "papermill": {
     "duration": 0.005402,
     "end_time": "2024-01-04T18:49:27.973802",
     "exception": false,
     "start_time": "2024-01-04T18:49:27.968400",
     "status": "completed"
    },
    "run_control": {
     "frozen": true
    },
    "tags": [
     "context"
    ]
   },
   "source": [
    "## 6. Load in stop words\n",
    "<p>It is common practice to remove words that appear a lot in the English language such as 'the', 'of' and 'a' because they're not so interesting. Such words are known as <em>stop words</em>. The package <code>nltk</code> includes a good list of stop words in English that we can use.</p>"
   ]
  },
  {
   "cell_type": "code",
   "execution_count": 6,
   "id": "bbaee2f2",
   "metadata": {
    "dc": {
     "key": "38"
    },
    "execution": {
     "iopub.execute_input": "2024-01-04T18:49:27.986890Z",
     "iopub.status.busy": "2024-01-04T18:49:27.986499Z",
     "iopub.status.idle": "2024-01-04T18:49:27.998202Z",
     "shell.execute_reply": "2024-01-04T18:49:27.997340Z"
    },
    "papermill": {
     "duration": 0.020942,
     "end_time": "2024-01-04T18:49:28.000391",
     "exception": false,
     "start_time": "2024-01-04T18:49:27.979449",
     "status": "completed"
    },
    "tags": [
     "sample_code"
    ]
   },
   "outputs": [
    {
     "name": "stdout",
     "output_type": "stream",
     "text": [
      "['i', 'me', 'my', 'myself', 'we']\n"
     ]
    }
   ],
   "source": [
    "# Getting the English stop words from nltk\n",
    "\n",
    "#  Before being able to load in the stop words, you have to download them using the command:\n",
    "#nltk.download('stopwords')\n",
    "from nltk.corpus import stopwords\n",
    "sw = stopwords.words('english')\n",
    "\n",
    "# Printing out the first eight stop words\n",
    "\n",
    "print(sw[0:5])"
   ]
  },
  {
   "cell_type": "markdown",
   "id": "afaaa9fd",
   "metadata": {
    "dc": {
     "key": "45"
    },
    "deletable": false,
    "papermill": {
     "duration": 0.005422,
     "end_time": "2024-01-04T18:49:28.011837",
     "exception": false,
     "start_time": "2024-01-04T18:49:28.006415",
     "status": "completed"
    },
    "run_control": {
     "frozen": true
    },
    "tags": [
     "context"
    ]
   },
   "source": [
    "## 7. Remove stop words in Moby Dick\n",
    "<p>We now want to create a new list with all <code>words</code> in Moby Dick, except those that are stop words (that is, those words listed in <code>sw</code>). One way to get this list is to loop over all elements of <code>words</code> and add each word to a new list if they are <em>not</em> in <code>sw</code>.</p>"
   ]
  },
  {
   "cell_type": "code",
   "execution_count": 7,
   "id": "0f106e68",
   "metadata": {
    "dc": {
     "key": "45"
    },
    "execution": {
     "iopub.execute_input": "2024-01-04T18:49:28.024930Z",
     "iopub.status.busy": "2024-01-04T18:49:28.024518Z",
     "iopub.status.idle": "2024-01-04T18:49:28.466153Z",
     "shell.execute_reply": "2024-01-04T18:49:28.464937Z"
    },
    "papermill": {
     "duration": 0.451432,
     "end_time": "2024-01-04T18:49:28.468968",
     "exception": false,
     "start_time": "2024-01-04T18:49:28.017536",
     "status": "completed"
    },
    "tags": [
     "sample_code"
    ]
   },
   "outputs": [
    {
     "name": "stdout",
     "output_type": "stream",
     "text": [
      "['moby', 'dick', 'whale', 'herman', 'melville']\n"
     ]
    }
   ],
   "source": [
    "# A new list to hold Moby Dick with No Stop words\n",
    "words_ns = []\n",
    "\n",
    "# Appending to words_ns all words that are in words but not in sw\n",
    "for word in words:\n",
    "    if word not in sw:\n",
    "        words_ns.append(word)\n",
    "\n",
    "# Printing the first 5 words_ns to check that stop words are gone\n",
    "print(words_ns[0:5])"
   ]
  },
  {
   "cell_type": "markdown",
   "id": "5e52166d",
   "metadata": {
    "dc": {
     "key": "52"
    },
    "deletable": false,
    "papermill": {
     "duration": 0.00626,
     "end_time": "2024-01-04T18:49:28.482351",
     "exception": false,
     "start_time": "2024-01-04T18:49:28.476091",
     "status": "completed"
    },
    "run_control": {
     "frozen": true
    },
    "tags": [
     "context"
    ]
   },
   "source": [
    "## 8. We have the answer\n",
    "<p>Our original question was:</p>\n",
    "<blockquote>\n",
    "  <p>What are the most frequent words in Herman Melville's novel Moby Dick and how often do they occur?</p>\n",
    "</blockquote>\n",
    "<p>We are now ready to answer that! Let's create a word frequency distribution plot using <code>nltk</code>. </p>"
   ]
  },
  {
   "cell_type": "code",
   "execution_count": 8,
   "id": "55ee7f97",
   "metadata": {
    "dc": {
     "key": "52"
    },
    "execution": {
     "iopub.execute_input": "2024-01-04T18:49:28.496794Z",
     "iopub.status.busy": "2024-01-04T18:49:28.496415Z",
     "iopub.status.idle": "2024-01-04T18:49:29.002641Z",
     "shell.execute_reply": "2024-01-04T18:49:29.001466Z"
    },
    "papermill": {
     "duration": 0.516293,
     "end_time": "2024-01-04T18:49:29.005374",
     "exception": false,
     "start_time": "2024-01-04T18:49:28.489081",
     "status": "completed"
    },
    "tags": [
     "sample_code"
    ]
   },
   "outputs": [
    {
     "data": {
      "image/png": "[encoded data removed]",
      "text/plain": [
       "<Figure size 640x480 with 1 Axes>"
      ]
     },
     "metadata": {},
     "output_type": "display_data"
    }
   ],
   "source": [
    "# This command display figures inline\n",
    "%matplotlib inline\n",
    "\n",
    "# Creating the word frequency distribution\n",
    "freqdist = nltk.FreqDist(words_ns)\n",
    "\n",
    "# Plotting the word frequency distribution\n",
    "freqdist.plot(25)"
   ]
  },
  {
   "cell_type": "markdown",
   "id": "afe8a421",
   "metadata": {
    "dc": {
     "key": "59"
    },
    "deletable": false,
    "papermill": {
     "duration": 0.006289,
     "end_time": "2024-01-04T18:49:29.018886",
     "exception": false,
     "start_time": "2024-01-04T18:49:29.012597",
     "status": "completed"
    },
    "run_control": {
     "frozen": true
    },
    "tags": [
     "context"
    ]
   },
   "source": [
    "## 9. The most common word\n",
    "<p>Nice! The frequency distribution plot above is the answer to our question. </p>\n",
    "<p>The natural language processing skills we used in this notebook are also applicable to much of the data that Data Scientists encounter as the vast proportion of the world's data is unstructured data and includes a great deal of text. </p>\n",
    "<p>So, what word turned out to (<em>not surprisingly</em>) be the most common word in Moby Dick?</p>"
   ]
  },
  {
   "cell_type": "code",
   "execution_count": 9,
   "id": "479cd739",
   "metadata": {
    "dc": {
     "key": "59"
    },
    "execution": {
     "iopub.execute_input": "2024-01-04T18:49:29.035965Z",
     "iopub.status.busy": "2024-01-04T18:49:29.035137Z",
     "iopub.status.idle": "2024-01-04T18:49:29.040627Z",
     "shell.execute_reply": "2024-01-04T18:49:29.039443Z"
    },
    "papermill": {
     "duration": 0.017207,
     "end_time": "2024-01-04T18:49:29.043467",
     "exception": false,
     "start_time": "2024-01-04T18:49:29.026260",
     "status": "completed"
    },
    "tags": [
     "sample_code"
    ]
   },
   "outputs": [],
   "source": [
    "# What's the most common word in Moby Dick?\n",
    "most_common_word = 'whale'"
   ]
  },
  {
   "cell_type": "code",
   "execution_count": null,
   "id": "f20e422b",
   "metadata": {
    "papermill": {
     "duration": 0.007012,
     "end_time": "2024-01-04T18:49:29.058208",
     "exception": false,
     "start_time": "2024-01-04T18:49:29.051196",
     "status": "completed"
    },
    "tags": []
   },
   "outputs": [],
   "source": []
  }
 ],
 "metadata": {
  "kaggle": {
   "accelerator": "none",
   "dataSources": [],
   "dockerImageVersionId": 30626,
   "isGpuEnabled": false,
   "isInternetEnabled": true,
   "language": "python",
   "sourceType": "notebook"
  },
  "kernelspec": {
   "display_name": "Python 3",
   "language": "python",
   "name": "python3"
  },
  "language_info": {
   "codemirror_mode": {
    "name": "ipython",
    "version": 3
   },
   "file_extension": ".py",
   "mimetype": "text/x-python",
   "name": "python",
   "nbconvert_exporter": "python",
   "pygments_lexer": "ipython3",
   "version": "3.10.12"
  },
  "papermill": {
   "default_parameters": {},
   "duration": 10.160163,
   "end_time": "2024-01-04T18:49:29.995455",
   "environment_variables": {},
   "exception": null,
   "input_path": "__notebook__.ipynb",
   "output_path": "__notebook__.ipynb",
   "parameters": {},
   "start_time": "2024-01-04T18:49:19.835292",
   "version": "2.4.0"
  }
 },
 "nbformat": 4,
 "nbformat_minor": 5
}
